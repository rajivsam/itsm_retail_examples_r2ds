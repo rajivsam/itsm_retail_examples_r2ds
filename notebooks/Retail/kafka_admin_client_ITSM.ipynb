{
 "cells": [
  {
   "cell_type": "code",
   "execution_count": 1,
   "id": "25a50f22-b2ee-4383-982e-89f9bd8a9a81",
   "metadata": {},
   "outputs": [],
   "source": [
    "config = {\n",
    "     'bootstrap.servers': 'localhost:19092'     \n",
    "     #'security.protocol': 'SASL_SSL',\n",
    "     #'sasl.mechanisms': 'PLAIN',\n",
    "     #'sasl.username': '<CLUSTER_API_KEY>', \n",
    "     #'sasl.password': '<CLUSTER_API_SECRET>'\n",
    "     }"
   ]
  },
  {
   "cell_type": "code",
   "execution_count": 2,
   "id": "d7bd7fd3-589b-42dc-bc57-39230a1c9f16",
   "metadata": {},
   "outputs": [],
   "source": [
    "from confluent_kafka.admin import (AdminClient, NewTopic, \n",
    "                                   ConfigResource)"
   ]
  },
  {
   "cell_type": "code",
   "execution_count": 3,
   "id": "b64c9ab9-1545-4ede-ac97-7c3412c157e6",
   "metadata": {},
   "outputs": [],
   "source": [
    "kadmin = AdminClient(config)"
   ]
  },
  {
   "cell_type": "code",
   "execution_count": 4,
   "id": "7ce45809-9de6-4a11-b9a3-f8f23e529a4b",
   "metadata": {},
   "outputs": [],
   "source": [
    "def example_delete_topics(a, topics):\n",
    "    \"\"\" delete topics \"\"\"\n",
    "\n",
    "    # Call delete_topics to asynchronously delete topics, a future is returned.\n",
    "    # By default this operation on the broker returns immediately while\n",
    "    # topics are deleted in the background. But here we give it some time (30s)\n",
    "    # to propagate in the cluster before returning.\n",
    "    #\n",
    "    # Returns a dict of <topic,future>.\n",
    "    fs = a.delete_topics(topics, operation_timeout=30)\n",
    "\n",
    "    # Wait for operation to finish.\n",
    "    for topic, f in fs.items():\n",
    "        try:\n",
    "            f.result()  # The result itself is None\n",
    "            print(\"Topic {} deleted\".format(topic))\n",
    "        except Exception as e:\n",
    "            print(\"Failed to delete topic {}: {}\".format(topic, e))"
   ]
  },
  {
   "cell_type": "code",
   "execution_count": 5,
   "id": "3bcd0ca6-f54d-48ad-9131-84bfcefc3dd3",
   "metadata": {},
   "outputs": [],
   "source": [
    "def topic_exists(admin, topic):\n",
    "    metadata = admin.list_topics()\n",
    "    for t in iter(metadata.topics.values()):\n",
    "        print(\"Topic {} is available\".format(t.topic))\n",
    "        if t.topic == topic:\n",
    "            return True\n",
    "    return False"
   ]
  },
  {
   "cell_type": "code",
   "execution_count": null,
   "id": "00d9907d-5507-4535-a2b2-6702cb07f840",
   "metadata": {},
   "outputs": [],
   "source": [
    "DAILY_DEMAND = \"DAILY_DEMAND\""
   ]
  },
  {
   "cell_type": "code",
   "execution_count": 7,
   "id": "7bdf9cdf-3e47-43fc-9ece-b27b825b1f27",
   "metadata": {},
   "outputs": [],
   "source": [
    "def create_topic(admin, topic):\n",
    "    new_topic = NewTopic(topic, num_partitions=6, replication_factor=1) \n",
    "    result_dict = admin.create_topics([new_topic])\n",
    "    for topic, future in result_dict.items():\n",
    "        try:\n",
    "            future.result()  # The result itself is None\n",
    "            print(\"Topic {} created\".format(topic))\n",
    "        except Exception as e:\n",
    "            print(\"Failed to create topic {}: {}\".format(topic, e))"
   ]
  },
  {
   "cell_type": "code",
   "execution_count": 8,
   "id": "6aac2b07-7d5b-4b13-80fe-3e726b8181d8",
   "metadata": {},
   "outputs": [],
   "source": [
    "def get_max_size(admin, topic):\n",
    "    resource = ConfigResource('topic', topic)\n",
    "    result_dict = admin.describe_configs([resource])\n",
    "    config_entries = result_dict[resource].result()\n",
    "    max_size = config_entries['max.message.bytes']\n",
    "    return max_size.value"
   ]
  },
  {
   "cell_type": "code",
   "execution_count": 9,
   "id": "3280697c-dace-4c23-b01b-c096e0c91a32",
   "metadata": {},
   "outputs": [],
   "source": [
    "# set max.message.bytes for topic\n",
    "def set_max_size(admin, topic, max_k):\n",
    "    config_dict = {'max.message.bytes': str(max_k*1024)}\n",
    "    resource = ConfigResource('topic', topic, config_dict)\n",
    "    result_dict = admin.alter_configs([resource])\n",
    "    result_dict[resource].result()"
   ]
  },
  {
   "cell_type": "code",
   "execution_count": 10,
   "id": "101eea11-c770-4ee8-b432-8fce9d1632f6",
   "metadata": {},
   "outputs": [
    {
     "name": "stdout",
     "output_type": "stream",
     "text": [
      "Topic _schemas is available\n",
      "Topic __consumer_offsets is available\n",
      "Failed to create topic DAILY_DEMAND: KafkaError{code=TOPIC_ALREADY_EXISTS,val=36,str=\"Topic 'DAILY_DEMAND' is marked for deletion.\"}\n"
     ]
    },
    {
     "ename": "KafkaException",
     "evalue": "KafkaError{code=UNKNOWN_TOPIC_OR_PART,val=3,str=\"Broker: Unknown topic or partition\"}",
     "output_type": "error",
     "traceback": [
      "\u001b[0;31m---------------------------------------------------------------------------\u001b[0m",
      "\u001b[0;31mKafkaException\u001b[0m                            Traceback (most recent call last)",
      "Cell \u001b[0;32mIn[10], line 11\u001b[0m\n\u001b[1;32m      8\u001b[0m     create_topic(admin, topic_name)\n\u001b[1;32m     10\u001b[0m \u001b[38;5;66;03m# Check max.message.bytes config and set if needed\u001b[39;00m\n\u001b[0;32m---> 11\u001b[0m current_max \u001b[38;5;241m=\u001b[39m \u001b[43mget_max_size\u001b[49m\u001b[43m(\u001b[49m\u001b[43madmin\u001b[49m\u001b[43m,\u001b[49m\u001b[43m \u001b[49m\u001b[43mtopic_name\u001b[49m\u001b[43m)\u001b[49m\n\u001b[1;32m     12\u001b[0m \u001b[38;5;28;01mif\u001b[39;00m current_max \u001b[38;5;241m!=\u001b[39m \u001b[38;5;28mstr\u001b[39m(max_msg_k \u001b[38;5;241m*\u001b[39m \u001b[38;5;241m1024\u001b[39m):\n\u001b[1;32m     13\u001b[0m     \u001b[38;5;28mprint\u001b[39m(\u001b[38;5;124mf\u001b[39m\u001b[38;5;124m'\u001b[39m\u001b[38;5;124mTopic, \u001b[39m\u001b[38;5;132;01m{\u001b[39;00mtopic_name\u001b[38;5;132;01m}\u001b[39;00m\u001b[38;5;124m max.message.bytes is \u001b[39m\u001b[38;5;132;01m{\u001b[39;00mcurrent_max\u001b[38;5;132;01m}\u001b[39;00m\u001b[38;5;124m.\u001b[39m\u001b[38;5;124m'\u001b[39m)\n",
      "Cell \u001b[0;32mIn[8], line 4\u001b[0m, in \u001b[0;36mget_max_size\u001b[0;34m(admin, topic)\u001b[0m\n\u001b[1;32m      2\u001b[0m resource \u001b[38;5;241m=\u001b[39m ConfigResource(\u001b[38;5;124m'\u001b[39m\u001b[38;5;124mtopic\u001b[39m\u001b[38;5;124m'\u001b[39m, topic)\n\u001b[1;32m      3\u001b[0m result_dict \u001b[38;5;241m=\u001b[39m admin\u001b[38;5;241m.\u001b[39mdescribe_configs([resource])\n\u001b[0;32m----> 4\u001b[0m config_entries \u001b[38;5;241m=\u001b[39m \u001b[43mresult_dict\u001b[49m\u001b[43m[\u001b[49m\u001b[43mresource\u001b[49m\u001b[43m]\u001b[49m\u001b[38;5;241;43m.\u001b[39;49m\u001b[43mresult\u001b[49m\u001b[43m(\u001b[49m\u001b[43m)\u001b[49m\n\u001b[1;32m      5\u001b[0m max_size \u001b[38;5;241m=\u001b[39m config_entries[\u001b[38;5;124m'\u001b[39m\u001b[38;5;124mmax.message.bytes\u001b[39m\u001b[38;5;124m'\u001b[39m]\n\u001b[1;32m      6\u001b[0m \u001b[38;5;28;01mreturn\u001b[39;00m max_size\u001b[38;5;241m.\u001b[39mvalue\n",
      "File \u001b[0;32m~/opt/anaconda3/envs/retail_ITSM_env/lib/python3.11/concurrent/futures/_base.py:456\u001b[0m, in \u001b[0;36mFuture.result\u001b[0;34m(self, timeout)\u001b[0m\n\u001b[1;32m    454\u001b[0m     \u001b[38;5;28;01mraise\u001b[39;00m CancelledError()\n\u001b[1;32m    455\u001b[0m \u001b[38;5;28;01melif\u001b[39;00m \u001b[38;5;28mself\u001b[39m\u001b[38;5;241m.\u001b[39m_state \u001b[38;5;241m==\u001b[39m FINISHED:\n\u001b[0;32m--> 456\u001b[0m     \u001b[38;5;28;01mreturn\u001b[39;00m \u001b[38;5;28;43mself\u001b[39;49m\u001b[38;5;241;43m.\u001b[39;49m\u001b[43m__get_result\u001b[49m\u001b[43m(\u001b[49m\u001b[43m)\u001b[49m\n\u001b[1;32m    457\u001b[0m \u001b[38;5;28;01melse\u001b[39;00m:\n\u001b[1;32m    458\u001b[0m     \u001b[38;5;28;01mraise\u001b[39;00m \u001b[38;5;167;01mTimeoutError\u001b[39;00m()\n",
      "File \u001b[0;32m~/opt/anaconda3/envs/retail_ITSM_env/lib/python3.11/concurrent/futures/_base.py:401\u001b[0m, in \u001b[0;36mFuture.__get_result\u001b[0;34m(self)\u001b[0m\n\u001b[1;32m    399\u001b[0m \u001b[38;5;28;01mif\u001b[39;00m \u001b[38;5;28mself\u001b[39m\u001b[38;5;241m.\u001b[39m_exception:\n\u001b[1;32m    400\u001b[0m     \u001b[38;5;28;01mtry\u001b[39;00m:\n\u001b[0;32m--> 401\u001b[0m         \u001b[38;5;28;01mraise\u001b[39;00m \u001b[38;5;28mself\u001b[39m\u001b[38;5;241m.\u001b[39m_exception\n\u001b[1;32m    402\u001b[0m     \u001b[38;5;28;01mfinally\u001b[39;00m:\n\u001b[1;32m    403\u001b[0m         \u001b[38;5;66;03m# Break a reference cycle with the exception in self._exception\u001b[39;00m\n\u001b[1;32m    404\u001b[0m         \u001b[38;5;28mself\u001b[39m \u001b[38;5;241m=\u001b[39m \u001b[38;5;28;01mNone\u001b[39;00m\n",
      "\u001b[0;31mKafkaException\u001b[0m: KafkaError{code=UNKNOWN_TOPIC_OR_PART,val=3,str=\"Broker: Unknown topic or partition\"}"
     ]
    }
   ],
   "source": [
    "# Create Admin client\n",
    "admin = AdminClient(config)\n",
    "topic_name = DAILY_DEMAND\n",
    "max_msg_k = 50\n",
    "\n",
    "# Create topic if it doesn't exist\n",
    "if not topic_exists(admin, topic_name):\n",
    "    create_topic(admin, topic_name)\n",
    "\n",
    "# Check max.message.bytes config and set if needed\n",
    "current_max = get_max_size(admin, topic_name)\n",
    "if current_max != str(max_msg_k * 1024):\n",
    "    print(f'Topic, {topic_name} max.message.bytes is {current_max}.')\n",
    "    set_max_size(admin, topic_name, max_msg_k)\n",
    "\n",
    "# Verify config was set \n",
    "new_max = get_max_size(admin, topic_name)\n",
    "print(f'Now max.message.bytes for topic {topic_name} is {new_max}')"
   ]
  },
  {
   "cell_type": "code",
   "execution_count": null,
   "id": "b3dca1f0-6c63-4231-b207-f3e166647cec",
   "metadata": {},
   "outputs": [],
   "source": []
  }
 ],
 "metadata": {
  "kernelspec": {
   "display_name": "Python 3 (ipykernel)",
   "language": "python",
   "name": "python3"
  },
  "language_info": {
   "codemirror_mode": {
    "name": "ipython",
    "version": 3
   },
   "file_extension": ".py",
   "mimetype": "text/x-python",
   "name": "python",
   "nbconvert_exporter": "python",
   "pygments_lexer": "ipython3",
   "version": "3.11.6"
  }
 },
 "nbformat": 4,
 "nbformat_minor": 5
}
