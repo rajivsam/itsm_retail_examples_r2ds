{
 "cells": [
  {
   "cell_type": "code",
   "execution_count": 1,
   "id": "25a50f22-b2ee-4383-982e-89f9bd8a9a81",
   "metadata": {},
   "outputs": [],
   "source": [
    "config = {\n",
    "     'bootstrap.servers': 'localhost:19092'     \n",
    "     #'security.protocol': 'SASL_SSL',\n",
    "     #'sasl.mechanisms': 'PLAIN',\n",
    "     #'sasl.username': '<CLUSTER_API_KEY>', \n",
    "     #'sasl.password': '<CLUSTER_API_SECRET>'\n",
    "     }"
   ]
  },
  {
   "cell_type": "code",
   "execution_count": 2,
   "id": "d7bd7fd3-589b-42dc-bc57-39230a1c9f16",
   "metadata": {},
   "outputs": [],
   "source": [
    "from confluent_kafka.admin import (AdminClient, NewTopic, \n",
    "                                   ConfigResource)"
   ]
  },
  {
   "cell_type": "code",
   "execution_count": 3,
   "id": "b64c9ab9-1545-4ede-ac97-7c3412c157e6",
   "metadata": {},
   "outputs": [],
   "source": [
    "kadmin = AdminClient(config)"
   ]
  },
  {
   "cell_type": "code",
   "execution_count": 4,
   "id": "3bcd0ca6-f54d-48ad-9131-84bfcefc3dd3",
   "metadata": {},
   "outputs": [],
   "source": [
    "def topic_exists(admin, topic):\n",
    "    metadata = admin.list_topics()\n",
    "    for t in iter(metadata.topics.values()):\n",
    "        print(\"Topic {} is available\".format(t.topic))\n",
    "        if t.topic == topic:\n",
    "            return True\n",
    "    return False"
   ]
  },
  {
   "cell_type": "code",
   "execution_count": 5,
   "id": "eddee80e-e28b-47e3-8856-eb0af4e3d223",
   "metadata": {},
   "outputs": [],
   "source": [
    "DAILY_DEMAND = \"DAILY_DEMAND\""
   ]
  },
  {
   "cell_type": "code",
   "execution_count": 6,
   "id": "7bdf9cdf-3e47-43fc-9ece-b27b825b1f27",
   "metadata": {},
   "outputs": [],
   "source": [
    "def create_topic(admin, topic):\n",
    "    new_topic = NewTopic(topic, num_partitions=6, replication_factor=1) \n",
    "    result_dict = admin.create_topics([new_topic])\n",
    "    for topic, future in result_dict.items():\n",
    "        try:\n",
    "            future.result()  # The result itself is None\n",
    "            print(\"Topic {} created\".format(topic))\n",
    "        except Exception as e:\n",
    "            print(\"Failed to create topic {}: {}\".format(topic, e))"
   ]
  },
  {
   "cell_type": "code",
   "execution_count": 7,
   "id": "6aac2b07-7d5b-4b13-80fe-3e726b8181d8",
   "metadata": {},
   "outputs": [],
   "source": [
    "def get_max_size(admin, topic):\n",
    "    resource = ConfigResource('topic', topic)\n",
    "    result_dict = admin.describe_configs([resource])\n",
    "    config_entries = result_dict[resource].result()\n",
    "    max_size = config_entries['max.message.bytes']\n",
    "    return max_size.value"
   ]
  },
  {
   "cell_type": "code",
   "execution_count": 8,
   "id": "3280697c-dace-4c23-b01b-c096e0c91a32",
   "metadata": {},
   "outputs": [],
   "source": [
    "# set max.message.bytes for topic\n",
    "def set_max_size(admin, topic, max_k):\n",
    "    config_dict = {'max.message.bytes': str(max_k*1024)}\n",
    "    resource = ConfigResource('topic', topic, config_dict)\n",
    "    result_dict = admin.alter_configs([resource])\n",
    "    result_dict[resource].result()"
   ]
  },
  {
   "cell_type": "code",
   "execution_count": 9,
   "id": "101eea11-c770-4ee8-b432-8fce9d1632f6",
   "metadata": {},
   "outputs": [
    {
     "name": "stdout",
     "output_type": "stream",
     "text": [
      "Topic _schemas is available\n",
      "Topic __consumer_offsets is available\n",
      "Topic DAILY_DEMAND created\n",
      "Topic, DAILY_DEMAND max.message.bytes is 1048588.\n",
      "Now max.message.bytes for topic DAILY_DEMAND is 51200\n"
     ]
    },
    {
     "name": "stderr",
     "output_type": "stream",
     "text": [
      "/var/folders/fb/t_m5qpcj6qq85rvkh73vbxh40000gn/T/ipykernel_21671/471056771.py:5: DeprecationWarning: alter_configs has been deprecated. Use incremental_alter_configs instead.\n",
      "  result_dict = admin.alter_configs([resource])\n"
     ]
    }
   ],
   "source": [
    "# Create Admin client\n",
    "admin = AdminClient(config)\n",
    "topic_name = DAILY_DEMAND\n",
    "max_msg_k = 50\n",
    "\n",
    "# Create topic if it doesn't exist\n",
    "if not topic_exists(admin, topic_name):\n",
    "    create_topic(admin, topic_name)\n",
    "\n",
    "# Check max.message.bytes config and set if needed\n",
    "current_max = get_max_size(admin, topic_name)\n",
    "if current_max != str(max_msg_k * 1024):\n",
    "    print(f'Topic, {topic_name} max.message.bytes is {current_max}.')\n",
    "    set_max_size(admin, topic_name, max_msg_k)\n",
    "\n",
    "# Verify config was set \n",
    "new_max = get_max_size(admin, topic_name)\n",
    "print(f'Now max.message.bytes for topic {topic_name} is {new_max}')"
   ]
  },
  {
   "cell_type": "code",
   "execution_count": null,
   "id": "b3dca1f0-6c63-4231-b207-f3e166647cec",
   "metadata": {},
   "outputs": [],
   "source": []
  }
 ],
 "metadata": {
  "kernelspec": {
   "display_name": "Python 3 (ipykernel)",
   "language": "python",
   "name": "python3"
  },
  "language_info": {
   "codemirror_mode": {
    "name": "ipython",
    "version": 3
   },
   "file_extension": ".py",
   "mimetype": "text/x-python",
   "name": "python",
   "nbconvert_exporter": "python",
   "pygments_lexer": "ipython3",
   "version": "3.11.6"
  }
 },
 "nbformat": 4,
 "nbformat_minor": 5
}
