{
 "cells": [
  {
   "cell_type": "markdown",
   "id": "c17856b7-4f5f-4298-8b4e-d10d5f3db78c",
   "metadata": {},
   "source": [
    "## An Example of Data Cleaning with Pandera"
   ]
  },
  {
   "cell_type": "code",
   "execution_count": 1,
   "id": "b122dc82-4d3f-4dfd-9d38-36add4c4fd7f",
   "metadata": {},
   "outputs": [],
   "source": [
    "import pandas as pd\n",
    "import pandera as pa\n"
   ]
  },
  {
   "cell_type": "markdown",
   "id": "955a37d0-ac71-4585-8f86-8a45192c4fa4",
   "metadata": {},
   "source": [
    "## Read Raw Data"
   ]
  },
  {
   "cell_type": "code",
   "execution_count": 2,
   "id": "4c552290-0589-46e1-b172-ac3d994392d5",
   "metadata": {},
   "outputs": [
    {
     "name": "stderr",
     "output_type": "stream",
     "text": [
      "/var/folders/fb/t_m5qpcj6qq85rvkh73vbxh40000gn/T/ipykernel_7354/3119532506.py:2: DtypeWarning: Columns (3,5,6) have mixed types. Specify dtype option on import or set low_memory=False.\n",
      "  df = pd.read_csv(fp)\n"
     ]
    }
   ],
   "source": [
    "fp = \"../../data/online_retail_II.csv\"\n",
    "df = pd.read_csv(fp)"
   ]
  },
  {
   "cell_type": "markdown",
   "id": "f2c5b3a3-6204-48cc-9138-9522d138cf61",
   "metadata": {},
   "source": [
    "### Note:\n",
    "1. You already see warnings about mixed data types\n",
    "2. Inspect the data set to create expected range of values for each attribute - create sensible obvious rules"
   ]
  },
  {
   "cell_type": "code",
   "execution_count": 3,
   "id": "8f5f2960-c5e1-44e5-8afa-280aaeec3b15",
   "metadata": {},
   "outputs": [
    {
     "data": {
      "text/html": [
       "<div>\n",
       "<style scoped>\n",
       "    .dataframe tbody tr th:only-of-type {\n",
       "        vertical-align: middle;\n",
       "    }\n",
       "\n",
       "    .dataframe tbody tr th {\n",
       "        vertical-align: top;\n",
       "    }\n",
       "\n",
       "    .dataframe thead th {\n",
       "        text-align: right;\n",
       "    }\n",
       "</style>\n",
       "<table border=\"1\" class=\"dataframe\">\n",
       "  <thead>\n",
       "    <tr style=\"text-align: right;\">\n",
       "      <th></th>\n",
       "      <th>Invoice</th>\n",
       "      <th>StockCode</th>\n",
       "      <th>Description</th>\n",
       "      <th>Quantity</th>\n",
       "      <th>InvoiceDate</th>\n",
       "      <th>Price</th>\n",
       "      <th>Customer ID</th>\n",
       "      <th>Country</th>\n",
       "    </tr>\n",
       "  </thead>\n",
       "  <tbody>\n",
       "    <tr>\n",
       "      <th>0</th>\n",
       "      <td>489434</td>\n",
       "      <td>85048</td>\n",
       "      <td>15CM CHRISTMAS GLASS BALL 20 LIGHTS</td>\n",
       "      <td>12</td>\n",
       "      <td>12/1/09 7:45</td>\n",
       "      <td>6.95</td>\n",
       "      <td>13085.0</td>\n",
       "      <td>United Kingdom</td>\n",
       "    </tr>\n",
       "    <tr>\n",
       "      <th>1</th>\n",
       "      <td>489434</td>\n",
       "      <td>79323P</td>\n",
       "      <td>PINK CHERRY LIGHTS</td>\n",
       "      <td>12</td>\n",
       "      <td>12/1/09 7:45</td>\n",
       "      <td>6.75</td>\n",
       "      <td>13085.0</td>\n",
       "      <td>United Kingdom</td>\n",
       "    </tr>\n",
       "    <tr>\n",
       "      <th>2</th>\n",
       "      <td>489434</td>\n",
       "      <td>79323W</td>\n",
       "      <td>WHITE CHERRY LIGHTS</td>\n",
       "      <td>12</td>\n",
       "      <td>12/1/09 7:45</td>\n",
       "      <td>6.75</td>\n",
       "      <td>13085.0</td>\n",
       "      <td>United Kingdom</td>\n",
       "    </tr>\n",
       "    <tr>\n",
       "      <th>3</th>\n",
       "      <td>489434</td>\n",
       "      <td>22041</td>\n",
       "      <td>RECORD FRAME 7\" SINGLE SIZE</td>\n",
       "      <td>48</td>\n",
       "      <td>12/1/09 7:45</td>\n",
       "      <td>2.1</td>\n",
       "      <td>13085.0</td>\n",
       "      <td>United Kingdom</td>\n",
       "    </tr>\n",
       "    <tr>\n",
       "      <th>4</th>\n",
       "      <td>489434</td>\n",
       "      <td>21232</td>\n",
       "      <td>STRAWBERRY CERAMIC TRINKET BOX</td>\n",
       "      <td>24</td>\n",
       "      <td>12/1/09 7:45</td>\n",
       "      <td>1.25</td>\n",
       "      <td>13085.0</td>\n",
       "      <td>United Kingdom</td>\n",
       "    </tr>\n",
       "  </tbody>\n",
       "</table>\n",
       "</div>"
      ],
      "text/plain": [
       "  Invoice StockCode                          Description Quantity  \\\n",
       "0  489434     85048  15CM CHRISTMAS GLASS BALL 20 LIGHTS       12   \n",
       "1  489434    79323P                   PINK CHERRY LIGHTS       12   \n",
       "2  489434    79323W                  WHITE CHERRY LIGHTS       12   \n",
       "3  489434     22041         RECORD FRAME 7\" SINGLE SIZE        48   \n",
       "4  489434     21232       STRAWBERRY CERAMIC TRINKET BOX       24   \n",
       "\n",
       "    InvoiceDate Price Customer ID         Country  \n",
       "0  12/1/09 7:45  6.95     13085.0  United Kingdom  \n",
       "1  12/1/09 7:45  6.75     13085.0  United Kingdom  \n",
       "2  12/1/09 7:45  6.75     13085.0  United Kingdom  \n",
       "3  12/1/09 7:45   2.1     13085.0  United Kingdom  \n",
       "4  12/1/09 7:45  1.25     13085.0  United Kingdom  "
      ]
     },
     "execution_count": 3,
     "metadata": {},
     "output_type": "execute_result"
    }
   ],
   "source": [
    "df.head()"
   ]
  },
  {
   "cell_type": "code",
   "execution_count": 4,
   "id": "a9c6e888-b94e-4b94-b845-b23a86d3f30f",
   "metadata": {},
   "outputs": [
    {
     "data": {
      "text/plain": [
       "(1067372, 8)"
      ]
     },
     "execution_count": 4,
     "metadata": {},
     "output_type": "execute_result"
    }
   ],
   "source": [
    "df.shape"
   ]
  },
  {
   "cell_type": "code",
   "execution_count": 5,
   "id": "b4c9d9f7-bd52-44fe-ad17-d990733ebab8",
   "metadata": {},
   "outputs": [
    {
     "name": "stdout",
     "output_type": "stream",
     "text": [
      "<class 'pandas.core.frame.DataFrame'>\n",
      "RangeIndex: 1067372 entries, 0 to 1067371\n",
      "Data columns (total 8 columns):\n",
      " #   Column       Non-Null Count    Dtype \n",
      "---  ------       --------------    ----- \n",
      " 0   Invoice      1067372 non-null  object\n",
      " 1   StockCode    1067372 non-null  object\n",
      " 2   Description  1062990 non-null  object\n",
      " 3   Quantity     1067372 non-null  object\n",
      " 4   InvoiceDate  1067372 non-null  object\n",
      " 5   Price        1067372 non-null  object\n",
      " 6   Customer ID  824365 non-null   object\n",
      " 7   Country      1067372 non-null  object\n",
      "dtypes: object(8)\n",
      "memory usage: 65.1+ MB\n"
     ]
    }
   ],
   "source": [
    "df.info()"
   ]
  },
  {
   "cell_type": "markdown",
   "id": "1b256959-ad90-43c4-9e50-66a22b3be272",
   "metadata": {},
   "source": [
    "### Note\n",
    "1. Inspection of the info() call tells us that Customer ID has null values\n",
    "2. Generate an inferred schema to see what the inferred data types are for each attribute. The object category result for fields where we expect numeric values indicates data errors. We will have to use pandera to catch these errors"
   ]
  },
  {
   "cell_type": "code",
   "execution_count": 6,
   "id": "0db9e774-43ac-4078-bcb7-5afdf508e6f8",
   "metadata": {},
   "outputs": [
    {
     "data": {
      "text/plain": [
       "<Schema DataFrameSchema(columns={'Invoice': <Schema Column(name=Invoice, type=DataType(object))>, 'StockCode': <Schema Column(name=StockCode, type=DataType(object))>, 'Description': <Schema Column(name=Description, type=DataType(object))>, 'Quantity': <Schema Column(name=Quantity, type=DataType(object))>, 'InvoiceDate': <Schema Column(name=InvoiceDate, type=DataType(object))>, 'Price': <Schema Column(name=Price, type=DataType(object))>, 'Customer ID': <Schema Column(name=Customer ID, type=DataType(object))>, 'Country': <Schema Column(name=Country, type=DataType(object))>}, checks=[], index=<Schema Index(name=None, type=DataType(int64))>, coerce=True, dtype=None, strict=False, name=None, ordered=False, unique_column_names=Falsemetadata='None, unique_column_names=False, add_missing_columns=False)>"
      ]
     },
     "execution_count": 6,
     "metadata": {},
     "output_type": "execute_result"
    }
   ],
   "source": [
    "pa.infer_schema(df)"
   ]
  },
  {
   "cell_type": "code",
   "execution_count": 7,
   "id": "82108cd7-db17-47d7-a5ef-97742d06897f",
   "metadata": {},
   "outputs": [
    {
     "data": {
      "text/plain": [
       "Index(['Invoice', 'StockCode', 'Description', 'Quantity', 'InvoiceDate',\n",
       "       'Price', 'Customer ID', 'Country'],\n",
       "      dtype='object')"
      ]
     },
     "execution_count": 7,
     "metadata": {},
     "output_type": "execute_result"
    }
   ],
   "source": [
    "df.columns"
   ]
  },
  {
   "cell_type": "markdown",
   "id": "a7d9fed5-2f47-49a3-b605-f612bfede784",
   "metadata": {},
   "source": [
    "## Validation against expected range of values\n",
    "\n",
    "For each attribute in the columns:\n",
    "\n",
    "\n",
    "    1. For each attribute, define the range of values you expect to see with a schema\n",
    "    \n",
    "    2. Apply the schema (validate it)\n",
    "    \n",
    "    3. Analyze the results\n",
    "    \n"
   ]
  },
  {
   "cell_type": "code",
   "execution_count": 8,
   "id": "38bfc856-997b-4891-8b98-2e98473659bd",
   "metadata": {},
   "outputs": [
    {
     "name": "stdout",
     "output_type": "stream",
     "text": [
      "Invoice data has values that are as expected\n"
     ]
    }
   ],
   "source": [
    "from pandera.errors import SchemaErrors\n",
    "invoice_schema = pa.SeriesSchema(\n",
    "    str,\n",
    "    coerce=True,\n",
    "    nullable=False,\n",
    "    name=\"Invoice\")\n",
    "try:\n",
    "    validated_invoices = invoice_schema.validate(df[\"Invoice\"])\n",
    "    print(\"Invoice data has values that are as expected\")\n",
    "except SchemaErrors as se:\n",
    "    print(\"Invoice data needs analysis - has values that are unexpected!\")\n",
    "    print(\"Failure Cases:\")\n",
    "    print(se.failure_cases)"
   ]
  },
  {
   "cell_type": "code",
   "execution_count": 9,
   "id": "49d4e475-9413-4a4b-8c7d-b90c9775bd65",
   "metadata": {},
   "outputs": [],
   "source": [
    "stock_code_schema = pa.SeriesSchema(\n",
    "    str,\n",
    "    [pa.Check.str_matches(r'^[0-9A-Za-z]{4,}$')],\n",
    "    coerce=True,\n",
    "    nullable=False,\n",
    "    name=\"StockCode\")"
   ]
  },
  {
   "cell_type": "code",
   "execution_count": 10,
   "id": "b369cd28-5957-48f8-95a9-a4f87daa8d0f",
   "metadata": {},
   "outputs": [
    {
     "name": "stdout",
     "output_type": "stream",
     "text": [
      "SchemaError:          index failure_case\n",
      "0         735            D\n",
      "1         736            D\n",
      "2        2379          DOT\n",
      "3        2539          DOT\n",
      "4        2551          DOT\n",
      "...       ...          ...\n",
      "3640  1063783            M\n",
      "3641  1064830          DOT\n",
      "3642  1066370          DOT\n",
      "3643  1067002          DOT\n",
      "3644  1067003            M\n",
      "\n",
      "[3645 rows x 2 columns]\n"
     ]
    }
   ],
   "source": [
    "failure_cases = None\n",
    "try:\n",
    "    validated_stock_code = stock_code_schema.validate(df[\"StockCode\"])\n",
    "    print(\"StockCode data has values that are as expected\")\n",
    "except pa.errors.SchemaErrors as err:\n",
    "    print(\"StockCode data needs analysis - has values that are unexpected!\")\n",
    "    failure_cases = err.failure_cases\n",
    "except pa.errors.SchemaError as err:\n",
    "    print('SchemaError: ', err.failure_cases)\n",
    "    "
   ]
  },
  {
   "cell_type": "code",
   "execution_count": 11,
   "id": "4da19490-443c-41ac-ad03-8a4c3bdc8f88",
   "metadata": {},
   "outputs": [],
   "source": [
    "description_code_schema = pa.SeriesSchema(\n",
    "    str,\n",
    "    coerce=True,\n",
    "    nullable=False,\n",
    "    name=\"Description\")"
   ]
  },
  {
   "cell_type": "code",
   "execution_count": 12,
   "id": "ed444252-a18a-467f-89da-954a6eb6f307",
   "metadata": {},
   "outputs": [
    {
     "name": "stdout",
     "output_type": "stream",
     "text": [
      "SchemaError:          index failure_case\n",
      "0         470          NaN\n",
      "1        3114          NaN\n",
      "2        3161          NaN\n",
      "3        3731          NaN\n",
      "4        4296          NaN\n",
      "...       ...          ...\n",
      "4377  1060784          NaN\n",
      "4378  1060788          NaN\n",
      "4379  1060794          NaN\n",
      "4380  1062443          NaN\n",
      "4381  1064016          NaN\n",
      "\n",
      "[4382 rows x 2 columns]\n"
     ]
    }
   ],
   "source": [
    "failure_cases = None\n",
    "try:\n",
    "    description_code_validation = description_code_schema.validate(df[\"Description\"])\n",
    "    print(\"Description data has values that are as expected\")\n",
    "# except pa.errors.SchemaErrors as err:\n",
    "#     print(\"Description data needs analysis - has values that are unexpected!\")\n",
    "#     failure_cases = err.failure_cases\n",
    "except pa.errors.SchemaError as err:\n",
    "    print('SchemaError: ', err.failure_cases)"
   ]
  },
  {
   "cell_type": "code",
   "execution_count": 13,
   "id": "c112a924-197c-41c4-adcd-b2069fe4d80e",
   "metadata": {},
   "outputs": [],
   "source": [
    "quantity_schema = pa.SeriesSchema(\n",
    "    int,\n",
    "    [pa.Check.greater_than(0)],\n",
    "    coerce=True,\n",
    "    nullable=False,\n",
    "    name=\"Quantity\")"
   ]
  },
  {
   "cell_type": "code",
   "execution_count": 14,
   "id": "0942fbfc-b0be-4497-880f-fedeb6a4d559",
   "metadata": {},
   "outputs": [
    {
     "name": "stdout",
     "output_type": "stream",
     "text": [
      "SchemaError:      index failure_case\n",
      "0  525461     Quantity\n"
     ]
    }
   ],
   "source": [
    "failure_cases = None\n",
    "try:\n",
    "    quantity_validation = quantity_schema.validate(df[\"Quantity\"])\n",
    "    print(\"Quantity data has values that are as expected\")\n",
    "except pa.errors.SchemaError as err:\n",
    "    print('SchemaError: ', err.failure_cases)"
   ]
  },
  {
   "cell_type": "markdown",
   "id": "0d66be7e-6b0c-4a7e-abd0-49813f5b0b0d",
   "metadata": {},
   "source": [
    "### Note\n",
    "This is a particularly \"nasty\" error. In a dataset with over 1 M rows, there is one row that has values where Quantity has the value \"Quantity\" instead of a number and other attributes like \"InvoiceDate\" also have bad values. Removing this row eliminates this issue. "
   ]
  },
  {
   "cell_type": "code",
   "execution_count": 15,
   "id": "b3d8d1cd-415d-43d7-a4d3-462ec0e13210",
   "metadata": {},
   "outputs": [
    {
     "data": {
      "text/plain": [
       "'Quantity'"
      ]
     },
     "execution_count": 15,
     "metadata": {},
     "output_type": "execute_result"
    }
   ],
   "source": [
    "df[\"Quantity\"][525461]"
   ]
  },
  {
   "cell_type": "code",
   "execution_count": 16,
   "id": "a82fcc61-6fd8-4557-8a6f-53c2f693f7ec",
   "metadata": {},
   "outputs": [],
   "source": [
    "invoice_date_schema = pa.SeriesSchema(\n",
    "    pd.DatetimeTZDtype(unit=\"ns\", tz=\"UTC\"),\n",
    "    coerce=True,\n",
    "    nullable=False,\n",
    "    name=\"InvoiceDate\")"
   ]
  },
  {
   "cell_type": "code",
   "execution_count": null,
   "id": "96e3744b-0dc6-4f06-9606-c024df2c7e6c",
   "metadata": {},
   "outputs": [
    {
     "name": "stderr",
     "output_type": "stream",
     "text": [
      "/Users/rajivsambasivan/opt/anaconda3/envs/init_r2ds/lib/python3.10/site-packages/pandera/engines/pandas_engine.py:842: UserWarning: Could not infer format, so each element will be parsed individually, falling back to `dateutil`. To ensure parsing is consistent and as-expected, please specify a format.\n",
      "  col = to_datetime_fn(col, **self.to_datetime_kwargs)\n"
     ]
    }
   ],
   "source": [
    "failure_cases = None\n",
    "try:\n",
    "    invoice_date_validation = invoice_date_schema.validate(df[\"InvoiceDate\"])\n",
    "    print(\"InvoiceDate data has values that are as expected\")\n",
    "except pa.errors.SchemaError as err:\n",
    "    print('SchemaError: ', err.failure_cases)"
   ]
  },
  {
   "cell_type": "code",
   "execution_count": null,
   "id": "baf3deb3-14c6-4f52-bc42-1f8e7bbae422",
   "metadata": {},
   "outputs": [],
   "source": [
    "df[\"InvoiceDate\"][525461]"
   ]
  },
  {
   "cell_type": "code",
   "execution_count": null,
   "id": "d60b136b-8750-4526-888a-62594b4d78d1",
   "metadata": {},
   "outputs": [],
   "source": [
    "df = df.drop(index=525461)\n"
   ]
  },
  {
   "cell_type": "code",
   "execution_count": null,
   "id": "cf12c099-3d1a-45a3-9d33-15e25d7debd7",
   "metadata": {},
   "outputs": [],
   "source": [
    "df = df.reset_index(drop=True)"
   ]
  },
  {
   "cell_type": "code",
   "execution_count": null,
   "id": "f01ef46c-3595-4f1e-99a4-6932462fae40",
   "metadata": {},
   "outputs": [],
   "source": [
    "df"
   ]
  },
  {
   "cell_type": "code",
   "execution_count": null,
   "id": "2ece3133-6a5b-40f5-89ca-5f04b6a63745",
   "metadata": {},
   "outputs": [],
   "source": [
    "failure_cases = None\n",
    "try:\n",
    "    quantity_validation = quantity_schema.validate(df[\"Quantity\"])\n",
    "    print(\"Quantity data has values that are as expected\")\n",
    "except pa.errors.SchemaError as err:\n",
    "    print('SchemaError: ', err.failure_cases)"
   ]
  },
  {
   "cell_type": "code",
   "execution_count": null,
   "id": "d7b776a9-bd92-4305-ad57-a8305798da6a",
   "metadata": {},
   "outputs": [],
   "source": [
    "failure_cases = None\n",
    "try:\n",
    "    invoice_date_validation = invoice_date_schema.validate(df[\"InvoiceDate\"])\n",
    "    print(\"InvoiceDate data has values that are as expected\")\n",
    "except pa.errors.SchemaError as err:\n",
    "    print('SchemaError: ', err.failure_cases)"
   ]
  },
  {
   "cell_type": "code",
   "execution_count": null,
   "id": "e28e2bb0-0c04-493f-8535-2225fc6e4beb",
   "metadata": {},
   "outputs": [],
   "source": [
    "price_schema = pa.SeriesSchema(\n",
    "    float,\n",
    "    [pa.Check.greater_than(0)],\n",
    "    coerce=True,\n",
    "    nullable=False,\n",
    "    name=\"Price\")"
   ]
  },
  {
   "cell_type": "code",
   "execution_count": null,
   "id": "b0807a01-30cf-48d2-b153-55782fa0b1ff",
   "metadata": {},
   "outputs": [],
   "source": [
    "failure_cases = None\n",
    "try:\n",
    "    price_validation = price_schema.validate(df[\"Price\"])\n",
    "    print(\"Price data has values that are as expected\")\n",
    "except pa.errors.SchemaError as err:\n",
    "    print('SchemaError: ', err.failure_cases)"
   ]
  },
  {
   "cell_type": "code",
   "execution_count": null,
   "id": "458f1e88-2d91-4251-bd3e-858ee1dfd84f",
   "metadata": {},
   "outputs": [],
   "source": [
    "customer_schema = pa.SeriesSchema(\n",
    "    str,\n",
    "    coerce=True,\n",
    "    nullable=False,\n",
    "    name=\"Customer ID\")"
   ]
  },
  {
   "cell_type": "code",
   "execution_count": null,
   "id": "0f5f5768-c696-4097-9c64-7cfe342d3c96",
   "metadata": {},
   "outputs": [],
   "source": [
    "failure_cases = None\n",
    "try:\n",
    "    customer_validation = customer_schema.validate(df[\"Customer ID\"])\n",
    "    print(\"Customer ID data has values that are as expected\")\n",
    "except pa.errors.SchemaError as err:\n",
    "    print('SchemaError: ', err.failure_cases)"
   ]
  },
  {
   "cell_type": "code",
   "execution_count": null,
   "id": "6b7afa60-b801-439b-99a1-67f43e7b6399",
   "metadata": {},
   "outputs": [],
   "source": [
    "country_schema = pa.SeriesSchema(\n",
    "    str,\n",
    "    coerce=True,\n",
    "    nullable=False,\n",
    "    name=\"Country\")"
   ]
  },
  {
   "cell_type": "code",
   "execution_count": null,
   "id": "6d5d8bde-7d9a-4462-ba6b-7349059ce1f7",
   "metadata": {},
   "outputs": [],
   "source": [
    "failure_cases = None\n",
    "try:\n",
    "    country_validation = country_schema.validate(df[\"Country\"])\n",
    "    print(\"Countrydata has values that are as expected\")\n",
    "except pa.errors.SchemaError as err:\n",
    "    print('SchemaError: ', err.failure_cases)"
   ]
  },
  {
   "cell_type": "markdown",
   "id": "40c01e57-4f3a-4709-ac1e-6bbce3418c9f",
   "metadata": {},
   "source": [
    "## Conclusion\n",
    "The results we obtained through initial assessment of data quality inform the \"denoising\" step. This notebook illustrates a systematic way of \"denoising\" data with data quality tools such as [pandera](https://union.ai/pandera)"
   ]
  },
  {
   "cell_type": "code",
   "execution_count": null,
   "id": "6194cfb4-d055-4522-a311-8cdf2f7d2348",
   "metadata": {},
   "outputs": [],
   "source": []
  }
 ],
 "metadata": {
  "kernelspec": {
   "display_name": "Python 3 (ipykernel)",
   "language": "python",
   "name": "python3"
  },
  "language_info": {
   "codemirror_mode": {
    "name": "ipython",
    "version": 3
   },
   "file_extension": ".py",
   "mimetype": "text/x-python",
   "name": "python",
   "nbconvert_exporter": "python",
   "pygments_lexer": "ipython3",
   "version": "3.11.6"
  }
 },
 "nbformat": 4,
 "nbformat_minor": 5
}
