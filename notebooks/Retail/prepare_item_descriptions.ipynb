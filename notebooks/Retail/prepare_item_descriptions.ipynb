{
 "cells": [
  {
   "cell_type": "code",
   "execution_count": 1,
   "id": "121d5083-f733-4687-93a0-71ebec77eb99",
   "metadata": {},
   "outputs": [
    {
     "name": "stderr",
     "output_type": "stream",
     "text": [
      "/var/folders/fb/t_m5qpcj6qq85rvkh73vbxh40000gn/T/ipykernel_7343/2859061488.py:3: DtypeWarning: Columns (3,5,6) have mixed types. Specify dtype option on import or set low_memory=False.\n",
      "  df_raw = pd.read_csv(fp_raw)\n"
     ]
    }
   ],
   "source": [
    "import pandas as pd\n",
    "fp_raw = \"../../data/online_retail_II.csv\"\n",
    "df_raw = pd.read_csv(fp_raw)"
   ]
  },
  {
   "cell_type": "code",
   "execution_count": 2,
   "id": "6671d823-9b07-4ce5-a7cc-d6d595877145",
   "metadata": {},
   "outputs": [],
   "source": [
    "prod_dict_lookup = {}\n",
    "for idx, row in df_raw.iterrows():\n",
    "    if row[\"StockCode\"] not in prod_dict_lookup:\n",
    "        prod_dict_lookup[row[\"StockCode\"]] = row[\"Description\"]\n",
    "\n"
   ]
  },
  {
   "cell_type": "code",
   "execution_count": 3,
   "id": "b8808f00-f9a7-497f-b162-170d7eaae591",
   "metadata": {},
   "outputs": [],
   "source": [
    "df_prod_desc = pd.DataFrame.from_dict(prod_dict_lookup, orient=\"index\").reset_index()\n",
    "df_prod_desc.columns = [\"product\", \"description\"]\n",
    "fp = \"../../data/retail_product_desc.csv\"\n",
    "df_prod_desc.to_csv(fp, index=False)"
   ]
  },
  {
   "cell_type": "code",
   "execution_count": 4,
   "id": "c863aa12-e9e1-4ae6-aa73-24ea05c9af2b",
   "metadata": {},
   "outputs": [
    {
     "data": {
      "text/html": [
       "<div>\n",
       "<style scoped>\n",
       "    .dataframe tbody tr th:only-of-type {\n",
       "        vertical-align: middle;\n",
       "    }\n",
       "\n",
       "    .dataframe tbody tr th {\n",
       "        vertical-align: top;\n",
       "    }\n",
       "\n",
       "    .dataframe thead th {\n",
       "        text-align: right;\n",
       "    }\n",
       "</style>\n",
       "<table border=\"1\" class=\"dataframe\">\n",
       "  <thead>\n",
       "    <tr style=\"text-align: right;\">\n",
       "      <th></th>\n",
       "      <th>product</th>\n",
       "      <th>description</th>\n",
       "    </tr>\n",
       "  </thead>\n",
       "  <tbody>\n",
       "    <tr>\n",
       "      <th>0</th>\n",
       "      <td>85048</td>\n",
       "      <td>15CM CHRISTMAS GLASS BALL 20 LIGHTS</td>\n",
       "    </tr>\n",
       "    <tr>\n",
       "      <th>1</th>\n",
       "      <td>79323P</td>\n",
       "      <td>PINK CHERRY LIGHTS</td>\n",
       "    </tr>\n",
       "    <tr>\n",
       "      <th>2</th>\n",
       "      <td>79323W</td>\n",
       "      <td>WHITE CHERRY LIGHTS</td>\n",
       "    </tr>\n",
       "    <tr>\n",
       "      <th>3</th>\n",
       "      <td>22041</td>\n",
       "      <td>RECORD FRAME 7\" SINGLE SIZE</td>\n",
       "    </tr>\n",
       "    <tr>\n",
       "      <th>4</th>\n",
       "      <td>21232</td>\n",
       "      <td>STRAWBERRY CERAMIC TRINKET BOX</td>\n",
       "    </tr>\n",
       "    <tr>\n",
       "      <th>...</th>\n",
       "      <td>...</td>\n",
       "      <td>...</td>\n",
       "    </tr>\n",
       "    <tr>\n",
       "      <th>5301</th>\n",
       "      <td>23562</td>\n",
       "      <td>SET OF 6 RIBBONS PERFECTLY PRETTY</td>\n",
       "    </tr>\n",
       "    <tr>\n",
       "      <th>5302</th>\n",
       "      <td>23561</td>\n",
       "      <td>SET OF 6 RIBBONS PARTY</td>\n",
       "    </tr>\n",
       "    <tr>\n",
       "      <th>5303</th>\n",
       "      <td>23609</td>\n",
       "      <td>SET 10 CARDS SNOWY ROBIN 17099</td>\n",
       "    </tr>\n",
       "    <tr>\n",
       "      <th>5304</th>\n",
       "      <td>23617</td>\n",
       "      <td>SET 10 CARDS SWIRLY XMAS TREE 17104</td>\n",
       "    </tr>\n",
       "    <tr>\n",
       "      <th>5305</th>\n",
       "      <td>23843</td>\n",
       "      <td>PAPER CRAFT , LITTLE BIRDIE</td>\n",
       "    </tr>\n",
       "  </tbody>\n",
       "</table>\n",
       "<p>5306 rows × 2 columns</p>\n",
       "</div>"
      ],
      "text/plain": [
       "     product                          description\n",
       "0      85048  15CM CHRISTMAS GLASS BALL 20 LIGHTS\n",
       "1     79323P                   PINK CHERRY LIGHTS\n",
       "2     79323W                  WHITE CHERRY LIGHTS\n",
       "3      22041         RECORD FRAME 7\" SINGLE SIZE \n",
       "4      21232       STRAWBERRY CERAMIC TRINKET BOX\n",
       "...      ...                                  ...\n",
       "5301   23562  SET OF 6 RIBBONS PERFECTLY PRETTY  \n",
       "5302   23561               SET OF 6 RIBBONS PARTY\n",
       "5303   23609       SET 10 CARDS SNOWY ROBIN 17099\n",
       "5304   23617  SET 10 CARDS SWIRLY XMAS TREE 17104\n",
       "5305   23843          PAPER CRAFT , LITTLE BIRDIE\n",
       "\n",
       "[5306 rows x 2 columns]"
      ]
     },
     "execution_count": 4,
     "metadata": {},
     "output_type": "execute_result"
    }
   ],
   "source": [
    "df_prod_desc"
   ]
  },
  {
   "cell_type": "code",
   "execution_count": null,
   "id": "71245541-a37e-4186-badb-5c423afe925f",
   "metadata": {},
   "outputs": [],
   "source": []
  }
 ],
 "metadata": {
  "kernelspec": {
   "display_name": "Python 3 (ipykernel)",
   "language": "python",
   "name": "python3"
  },
  "language_info": {
   "codemirror_mode": {
    "name": "ipython",
    "version": 3
   },
   "file_extension": ".py",
   "mimetype": "text/x-python",
   "name": "python",
   "nbconvert_exporter": "python",
   "pygments_lexer": "ipython3",
   "version": "3.10.13"
  }
 },
 "nbformat": 4,
 "nbformat_minor": 5
}
