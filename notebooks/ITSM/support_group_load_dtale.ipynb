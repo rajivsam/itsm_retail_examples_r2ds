{
 "cells": [
  {
   "cell_type": "code",
   "execution_count": 7,
   "id": "9018f078-e17f-430a-929b-e3c3d02b2daf",
   "metadata": {},
   "outputs": [
    {
     "data": {
      "text/html": [
       "<div>\n",
       "<style scoped>\n",
       "    .dataframe tbody tr th:only-of-type {\n",
       "        vertical-align: middle;\n",
       "    }\n",
       "\n",
       "    .dataframe tbody tr th {\n",
       "        vertical-align: top;\n",
       "    }\n",
       "\n",
       "    .dataframe thead th {\n",
       "        text-align: right;\n",
       "    }\n",
       "</style>\n",
       "<table border=\"1\" class=\"dataframe\">\n",
       "  <thead>\n",
       "    <tr style=\"text-align: right;\">\n",
       "      <th></th>\n",
       "      <th>number</th>\n",
       "      <th>sys_created_at</th>\n",
       "      <th>closed_at</th>\n",
       "      <th>assignment_group</th>\n",
       "    </tr>\n",
       "  </thead>\n",
       "  <tbody>\n",
       "    <tr>\n",
       "      <th>0</th>\n",
       "      <td>INC0000045</td>\n",
       "      <td>2016-02-29 01:23:00</td>\n",
       "      <td>2016-05-03 12:00:00</td>\n",
       "      <td>Group 56</td>\n",
       "    </tr>\n",
       "    <tr>\n",
       "      <th>1</th>\n",
       "      <td>INC0000047</td>\n",
       "      <td>2016-02-29 04:57:00</td>\n",
       "      <td>2016-06-03 10:00:00</td>\n",
       "      <td>Group 24</td>\n",
       "    </tr>\n",
       "    <tr>\n",
       "      <th>2</th>\n",
       "      <td>INC0000062</td>\n",
       "      <td>2016-02-29 07:26:00</td>\n",
       "      <td>2016-05-03 16:00:00</td>\n",
       "      <td>Group 23</td>\n",
       "    </tr>\n",
       "    <tr>\n",
       "      <th>3</th>\n",
       "      <td>INC0000063</td>\n",
       "      <td>2016-02-29 07:17:00</td>\n",
       "      <td>2016-05-03 17:00:00</td>\n",
       "      <td>Group 23</td>\n",
       "    </tr>\n",
       "    <tr>\n",
       "      <th>4</th>\n",
       "      <td>INC0000071</td>\n",
       "      <td>2016-02-29 08:17:00</td>\n",
       "      <td>2016-06-03 11:00:00</td>\n",
       "      <td>Group 24</td>\n",
       "    </tr>\n",
       "  </tbody>\n",
       "</table>\n",
       "</div>"
      ],
      "text/plain": [
       "       number       sys_created_at            closed_at assignment_group\n",
       "0  INC0000045  2016-02-29 01:23:00  2016-05-03 12:00:00         Group 56\n",
       "1  INC0000047  2016-02-29 04:57:00  2016-06-03 10:00:00         Group 24\n",
       "2  INC0000062  2016-02-29 07:26:00  2016-05-03 16:00:00         Group 23\n",
       "3  INC0000063  2016-02-29 07:17:00  2016-05-03 17:00:00         Group 23\n",
       "4  INC0000071  2016-02-29 08:17:00  2016-06-03 11:00:00         Group 24"
      ]
     },
     "execution_count": 7,
     "metadata": {},
     "output_type": "execute_result"
    }
   ],
   "source": [
    "import pandas as pd\n",
    "fp = \"../../data/q2_2016_ticket_resolution_data.csv\"\n",
    "df = pd.read_csv(fp)\n",
    "df.head()"
   ]
  },
  {
   "cell_type": "code",
   "execution_count": 8,
   "id": "2e6def8f-288a-47df-bac4-b070c27b55ff",
   "metadata": {},
   "outputs": [],
   "source": [
    "fpdtypes = \"../../data/ticket_resolution_dtypes.csv\"\n",
    "dtypes_df = pd.read_csv(fpdtypes)\n",
    "dtypes_dict = {row[\"attribute\"]: row[\"type\"] for index, row in dtypes_df.iterrows()}\n",
    "df = df.astype(dtypes_dict)\n",
    "df = df.reset_index()"
   ]
  },
  {
   "cell_type": "code",
   "execution_count": 9,
   "id": "ef58158e-6630-4a8a-9155-078bbc376ce5",
   "metadata": {},
   "outputs": [
    {
     "data": {
      "text/plain": [
       "index                        int64\n",
       "number                      object\n",
       "sys_created_at      datetime64[ns]\n",
       "closed_at           datetime64[ns]\n",
       "assignment_group            object\n",
       "dtype: object"
      ]
     },
     "execution_count": 9,
     "metadata": {},
     "output_type": "execute_result"
    }
   ],
   "source": [
    "df.dtypes"
   ]
  },
  {
   "cell_type": "code",
   "execution_count": 14,
   "id": "eeeebdad-1b1a-47bb-979d-10cd01e0761b",
   "metadata": {},
   "outputs": [],
   "source": [
    "Q2_2016 = (df[\"sys_created_at\"].dt.year == 2016) & (df[\"sys_created_at\"].dt.quarter == 2)\n",
    "df = df[Q2_2016]\n",
    "df[\"day_of_year\"] = df.sys_created_at.dt.day_of_year"
   ]
  },
  {
   "cell_type": "code",
   "execution_count": 21,
   "id": "96753f0e-ff5b-4a23-b300-1069643ec5bc",
   "metadata": {},
   "outputs": [
    {
     "data": {
      "text/html": [
       "\n",
       "        <iframe\n",
       "            width=\"100%\"\n",
       "            height=\"475\"\n",
       "            src=\"http://Rajivs-MacBook-Pro.local:40000/dtale/iframe/13\"\n",
       "            frameborder=\"0\"\n",
       "            allowfullscreen\n",
       "            \n",
       "        ></iframe>\n",
       "        "
      ],
      "text/plain": [
       "<IPython.lib.display.IFrame at 0x7f8659e87b50>"
      ]
     },
     "metadata": {},
     "output_type": "display_data"
    },
    {
     "data": {
      "text/plain": []
     },
     "execution_count": 21,
     "metadata": {},
     "output_type": "execute_result"
    }
   ],
   "source": [
    "import dtale\n",
    "dtale.show(df)"
   ]
  }
 ],
 "metadata": {
  "kernelspec": {
   "display_name": "Python 3 (ipykernel)",
   "language": "python",
   "name": "python3"
  },
  "language_info": {
   "codemirror_mode": {
    "name": "ipython",
    "version": 3
   },
   "file_extension": ".py",
   "mimetype": "text/x-python",
   "name": "python",
   "nbconvert_exporter": "python",
   "pygments_lexer": "ipython3",
   "version": "3.11.6"
  }
 },
 "nbformat": 4,
 "nbformat_minor": 5
}
