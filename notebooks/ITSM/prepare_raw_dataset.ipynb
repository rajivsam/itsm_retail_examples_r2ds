{
 "cells": [
  {
   "cell_type": "markdown",
   "id": "4e5e5559-0417-4c21-8598-31c72990c586",
   "metadata": {
    "canvas": {
     "comments": [],
     "componentType": "CodeCell",
     "copiedOriginId": null,
     "diskcache": false,
     "headerColor": "transparent",
     "id": "d695d8f0-e16a-4d13-98b8-1e04ed2e7c9f",
     "isComponent": false,
     "name": "",
     "parents": []
    }
   },
   "source": [
    "## Read Data"
   ]
  },
  {
   "cell_type": "code",
   "execution_count": 1,
   "id": "8a05664b-47fe-4959-aacb-92e183ac7de6",
   "metadata": {
    "canvas": {
     "comments": [],
     "componentType": "CodeCell",
     "copiedOriginId": null,
     "diskcache": false,
     "headerColor": "transparent",
     "id": "a0fe86b2-1937-4092-9dae-b4a7d091825c",
     "isComponent": false,
     "name": "",
     "parents": []
    },
    "tags": []
   },
   "outputs": [
    {
     "name": "stderr",
     "output_type": "stream",
     "text": [
      "/var/folders/fb/t_m5qpcj6qq85rvkh73vbxh40000gn/T/ipykernel_7631/3477932692.py:4: DtypeWarning: Columns (19,31) have mixed types. Specify dtype option on import or set low_memory=False.\n",
      "  df = pd.read_csv(fp)\n"
     ]
    }
   ],
   "source": [
    "import dask.dataframe as dd\n",
    "import pandas as pd\n",
    "fp = \"../../data/incident_event_log_02.csv\"\n",
    "df = pd.read_csv(fp)"
   ]
  },
  {
   "cell_type": "markdown",
   "id": "c5983c92-d0c0-4dc4-8d56-4f4abc013157",
   "metadata": {
    "canvas": {
     "comments": [],
     "componentType": "CodeCell",
     "copiedOriginId": null,
     "diskcache": false,
     "headerColor": "transparent",
     "id": "e65bd510-8f39-4afe-93d5-f742a2e3f94c",
     "isComponent": false,
     "name": "",
     "parents": []
    }
   },
   "source": [
    "## Select Columns Needed"
   ]
  },
  {
   "cell_type": "code",
   "execution_count": 2,
   "id": "1c0c8fa2-8833-4789-ba67-97da683d0cea",
   "metadata": {
    "canvas": {
     "comments": [],
     "componentType": "CodeCell",
     "copiedOriginId": null,
     "diskcache": false,
     "headerColor": "transparent",
     "id": "45579521-8911-44de-8cd2-b360a203f39a",
     "isComponent": false,
     "name": "",
     "parents": []
    },
    "tags": []
   },
   "outputs": [],
   "source": [
    "SELECT_COLS = ['number', 'sys_created_at', 'closed_at', 'assignment_group']\n",
    "closed_tickets = df.incident_state == \"Closed\"\n",
    "df_closed_tickets = df[closed_tickets][SELECT_COLS].copy()\n",
    "del df\n",
    "df_closed_tickets = df_closed_tickets.reset_index(drop=True)"
   ]
  },
  {
   "cell_type": "markdown",
   "id": "f4b226d1-dfe9-4070-964c-1b73d7772042",
   "metadata": {
    "canvas": {
     "comments": [],
     "componentType": "CodeCell",
     "copiedOriginId": null,
     "diskcache": false,
     "headerColor": "transparent",
     "id": "7f0a39d2-6cd8-4caa-851a-5b68df72bf4e",
     "isComponent": false,
     "name": "",
     "parents": []
    }
   },
   "source": [
    "## Inspect Null Information in Dataset"
   ]
  },
  {
   "cell_type": "code",
   "execution_count": 3,
   "id": "9f379c82-914b-445a-a4ff-94dd97dc319f",
   "metadata": {
    "canvas": {
     "comments": [],
     "componentType": "CodeCell",
     "copiedOriginId": null,
     "diskcache": false,
     "headerColor": "transparent",
     "id": "65ae403c-7f88-4f60-a555-0b59f3cc37a3",
     "isComponent": false,
     "name": "",
     "parents": []
    }
   },
   "outputs": [
    {
     "name": "stdout",
     "output_type": "stream",
     "text": [
      "<class 'pandas.core.frame.DataFrame'>\n",
      "RangeIndex: 24985 entries, 0 to 24984\n",
      "Data columns (total 4 columns):\n",
      " #   Column            Non-Null Count  Dtype \n",
      "---  ------            --------------  ----- \n",
      " 0   number            24985 non-null  object\n",
      " 1   sys_created_at    13466 non-null  object\n",
      " 2   closed_at         24985 non-null  object\n",
      " 3   assignment_group  22816 non-null  object\n",
      "dtypes: object(4)\n",
      "memory usage: 780.9+ KB\n"
     ]
    }
   ],
   "source": [
    "df_closed_tickets.info()"
   ]
  },
  {
   "cell_type": "markdown",
   "id": "321a6e23-2fff-4f4d-a621-ac1b81881e9c",
   "metadata": {
    "canvas": {
     "comments": [],
     "componentType": "CodeCell",
     "copiedOriginId": null,
     "diskcache": false,
     "headerColor": "transparent",
     "id": "e52cf8fa-eada-4eb8-b780-5bce7e7761f8",
     "isComponent": false,
     "name": "",
     "parents": []
    }
   },
   "source": [
    "## Noise Filter #1 definition"
   ]
  },
  {
   "cell_type": "code",
   "execution_count": 4,
   "id": "edba0c39-9722-4477-a20d-ddead7025e17",
   "metadata": {
    "canvas": {
     "comments": [],
     "componentType": "CodeCell",
     "copiedOriginId": null,
     "diskcache": false,
     "headerColor": "transparent",
     "id": "c834e717-7a9b-445f-8dd9-00a7c624b9aa",
     "isComponent": false,
     "name": "",
     "parents": []
    },
    "tags": []
   },
   "outputs": [],
   "source": [
    "def noise_filter_1(row):\n",
    "    creation_date = row['sys_created_at']\n",
    "    valid_creation_date = True\n",
    "    valid_closed_date = True\n",
    "    cd = cls_dt = None\n",
    "    if pd.isna(creation_date):\n",
    "        valid_creation_date = False\n",
    "    else:\n",
    "        try:\n",
    "            creation_date = pd.to_datetime(creation_date, infer_datetime_format=True)\n",
    "        except:\n",
    "            valid_creation_date = False\n",
    "    \n",
    "            \n",
    "    closed_date = row[\"closed_at\"]\n",
    "    \n",
    "    if pd.isna(closed_date):\n",
    "        valid_closed_date = False\n",
    "    else:\n",
    "        try:\n",
    "            cls_dt = pd.to_datetime(closed_date)\n",
    "\n",
    "        except:\n",
    "            valid_closed_date = False\n",
    "    \n",
    "    \n",
    "    clean_row = valid_creation_date & valid_closed_date\n",
    "    \n",
    "\n",
    "    return valid_creation_date\n"
   ]
  },
  {
   "cell_type": "markdown",
   "id": "049a4be7-5170-4a2c-ac7e-ba55b7173599",
   "metadata": {
    "canvas": {
     "comments": [],
     "componentType": "CodeCell",
     "copiedOriginId": null,
     "diskcache": false,
     "headerColor": "transparent",
     "id": "1926fbec-5929-4f9c-a792-a25fd93622fc",
     "isComponent": false,
     "name": "",
     "parents": []
    }
   },
   "source": [
    "## Apply Noise Filter #1"
   ]
  },
  {
   "cell_type": "code",
   "execution_count": 5,
   "id": "1b11bad3-06fb-448f-a790-1fc5504470c1",
   "metadata": {
    "canvas": {
     "comments": [],
     "componentType": "CodeCell",
     "copiedOriginId": null,
     "diskcache": false,
     "headerColor": "transparent",
     "id": "20f62fde-ac09-447b-9ee5-822b6aab8549",
     "isComponent": false,
     "name": "",
     "parents": []
    },
    "tags": []
   },
   "outputs": [],
   "source": [
    "df_closed_tickets = df_closed_tickets[df_closed_tickets.apply(noise_filter_1, axis=1)]"
   ]
  },
  {
   "cell_type": "markdown",
   "id": "e3ecb310-8588-498b-b2cd-ae60f22bfb8c",
   "metadata": {
    "canvas": {
     "comments": [],
     "componentType": "CodeCell",
     "copiedOriginId": null,
     "diskcache": false,
     "headerColor": "transparent",
     "id": "f14d3ed1-d64e-4103-a0c8-98a8c452156f",
     "isComponent": false,
     "name": "",
     "parents": []
    }
   },
   "source": [
    "## Define Noise Filter #2"
   ]
  },
  {
   "cell_type": "code",
   "execution_count": 6,
   "id": "ae4c6a5d-2723-4426-b26b-3828068fa13d",
   "metadata": {
    "canvas": {
     "comments": [],
     "componentType": "CodeCell",
     "copiedOriginId": null,
     "diskcache": false,
     "headerColor": "transparent",
     "id": "28619636-56dc-4349-97c1-f68478ca62f6",
     "isComponent": false,
     "name": "",
     "parents": []
    },
    "tags": []
   },
   "outputs": [],
   "source": [
    "dict_types = {\"number\": 'str', \"sys_created_at\": 'datetime64[ns]',\n",
    "              \"closed_at\": \"datetime64[ns]\" , \"assignment_group\": 'str'}\n",
    "df_closed_tickets = df_closed_tickets.astype(dict_types)\n",
    "valid_closing_dates = df_closed_tickets[\"closed_at\"] > df_closed_tickets[\"sys_created_at\"]\n",
    "q2_2016 = (df_closed_tickets.closed_at.dt.quarter == 2) & \\\n",
    "        (df_closed_tickets.closed_at.dt.year == 2016)\n",
    "in_range_good_tickets = q2_2016 & valid_closing_dates"
   ]
  },
  {
   "cell_type": "markdown",
   "id": "5004a887-eab2-47e5-9257-fed444025b1b",
   "metadata": {
    "canvas": {
     "comments": [],
     "componentType": "CodeCell",
     "copiedOriginId": null,
     "diskcache": false,
     "headerColor": "transparent",
     "id": "541ec407-7417-4dc7-b25b-27607e713eb5",
     "isComponent": false,
     "name": "",
     "parents": []
    }
   },
   "source": [
    "## Apply Noise Filter #2"
   ]
  },
  {
   "cell_type": "code",
   "execution_count": 7,
   "id": "a8fb6f56-5fd3-4acd-8f61-717f27f3402f",
   "metadata": {
    "canvas": {
     "comments": [],
     "componentType": "CodeCell",
     "copiedOriginId": null,
     "diskcache": false,
     "headerColor": "transparent",
     "id": "158335f4-0198-4915-998d-77e40e42b703",
     "isComponent": false,
     "name": "",
     "parents": []
    },
    "tags": []
   },
   "outputs": [],
   "source": [
    "\n",
    "df_closed_tickets = df_closed_tickets[in_range_good_tickets].reset_index(drop=True)"
   ]
  },
  {
   "cell_type": "markdown",
   "id": "8c6063a4-74ec-4748-872d-8ae24cc8b310",
   "metadata": {
    "canvas": {
     "comments": [],
     "componentType": "CodeCell",
     "copiedOriginId": null,
     "diskcache": false,
     "headerColor": "transparent",
     "id": "8d325bab-fca6-4e2b-9a64-fc29d333e516",
     "isComponent": false,
     "name": "",
     "parents": []
    }
   },
   "source": [
    "## Write Report Data"
   ]
  },
  {
   "cell_type": "code",
   "execution_count": 8,
   "id": "ba91d340-49d4-4598-928b-66bf86e3a50d",
   "metadata": {
    "canvas": {
     "comments": [],
     "componentType": "CodeCell",
     "copiedOriginId": null,
     "diskcache": false,
     "headerColor": "transparent",
     "id": "fe5eb853-3cb5-4f33-aa10-f738c9e6312e",
     "isComponent": false,
     "name": "",
     "parents": []
    },
    "tags": []
   },
   "outputs": [],
   "source": [
    "fp = \"../../data/q2_2016_ticket_resolution_data.csv\"\n",
    "df_closed_tickets.to_csv(fp, index=False)"
   ]
  },
  {
   "cell_type": "code",
   "execution_count": 9,
   "id": "cc77ba81-38b7-4631-9034-6da84457e6a8",
   "metadata": {
    "canvas": {
     "comments": [],
     "componentType": "CodeCell",
     "copiedOriginId": null,
     "diskcache": false,
     "headerColor": "transparent",
     "id": "37da867b-7732-485c-bd6d-a375b163a835",
     "isComponent": false,
     "name": "",
     "parents": []
    },
    "tags": []
   },
   "outputs": [],
   "source": [
    "dtypes_meta = {\"attribute\": [], \"type\": []}\n",
    "for k, v in dict_types.items():\n",
    "    dtypes_meta[\"attribute\"].append(k)\n",
    "    dtypes_meta[\"type\"].append(v)\n",
    "    \n",
    "df_dtypes = pd.DataFrame.from_dict(dtypes_meta)\n",
    "fp_types = \"../../data/ticket_resolution_dtypes.csv\"\n",
    "df_dtypes.to_csv(fp_types, index=False)"
   ]
  },
  {
   "cell_type": "code",
   "execution_count": null,
   "id": "c1d06640-2725-4fd4-b500-cae3dd7cce5d",
   "metadata": {
    "canvas": {
     "comments": [],
     "componentType": "CodeCell",
     "copiedOriginId": null,
     "diskcache": false,
     "headerColor": "transparent",
     "id": "9857ff74-343d-4a06-936f-bb31b9b19f37",
     "isComponent": false,
     "name": "",
     "parents": []
    }
   },
   "outputs": [],
   "source": []
  }
 ],
 "metadata": {
  "canvas": {
   "colorPalette": [
    "inherit",
    "inherit",
    "inherit",
    "inherit",
    "inherit",
    "inherit",
    "inherit",
    "inherit",
    "inherit",
    "inherit"
   ],
   "parameters": [],
   "version": "1.0"
  },
  "kernelspec": {
   "display_name": "Python 3 (ipykernel)",
   "language": "python",
   "name": "python3"
  },
  "language_info": {
   "codemirror_mode": {
    "name": "ipython",
    "version": 3
   },
   "file_extension": ".py",
   "mimetype": "text/x-python",
   "name": "python",
   "nbconvert_exporter": "python",
   "pygments_lexer": "ipython3",
   "version": "3.10.13"
  }
 },
 "nbformat": 4,
 "nbformat_minor": 5
}
